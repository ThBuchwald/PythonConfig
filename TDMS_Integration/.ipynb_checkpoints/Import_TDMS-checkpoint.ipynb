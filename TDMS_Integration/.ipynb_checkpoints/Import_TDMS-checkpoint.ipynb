{
 "cells": [
  {
   "cell_type": "code",
   "execution_count": 2,
   "metadata": {},
   "outputs": [],
   "source": [
    "# import required libraries\n",
    "from nptdms import TdmsFile\n",
    "import numpy as np\n",
    "import pandas as pd"
   ]
  },
  {
   "cell_type": "markdown",
   "metadata": {},
   "source": [
    "Note the time required to load the file into memory. Once it has been loaded, however, the NumPy arrays behave as fast as usual."
   ]
  },
  {
   "cell_type": "code",
   "execution_count": 3,
   "metadata": {},
   "outputs": [
    {
     "name": "stdout",
     "output_type": "stream",
     "text": [
      "Wall time: 8.06 s\n",
      "<class 'nptdms.tdms.TdmsFile'>\n"
     ]
    }
   ],
   "source": [
    "# load tdms file\n",
    "%time tdms_file = TdmsFile(\"Test.tdms\")\n",
    "print(type(tdms_file))"
   ]
  },
  {
   "cell_type": "code",
   "execution_count": 6,
   "metadata": {},
   "outputs": [
    {
     "name": "stdout",
     "output_type": "stream",
     "text": [
      "Wall time: 0 ns\n",
      "<class 'nptdms.tdms.TdmsObject'>\n"
     ]
    }
   ],
   "source": [
    "%time scale_channel = tdms_file.object(\"Rohdaten\",\"Masse_Konzentrat\")\n",
    "print(type(scale_channel))"
   ]
  },
  {
   "cell_type": "code",
   "execution_count": 10,
   "metadata": {},
   "outputs": [
    {
     "name": "stdout",
     "output_type": "stream",
     "text": [
      "<class 'numpy.ndarray'>\n",
      "The channel has 1473740 rows.\n",
      "<class 'numpy.ndarray'>\n"
     ]
    }
   ],
   "source": [
    "scale_data = scale_channel.data\n",
    "print(type(scale_data))\n",
    "print(\"The channel has\", len(scale_data), \"rows.\")\n",
    "\n",
    "time_data = scale_channel.time_track()\n",
    "print(type(time_data))"
   ]
  },
  {
   "cell_type": "code",
   "execution_count": 12,
   "metadata": {},
   "outputs": [
    {
     "name": "stdout",
     "output_type": "stream",
     "text": [
      "unit_string: kg\n",
      "maximum: 119.43547877291446\n",
      "minimum: 45.77417940776836\n",
      "datatype: DT_DOUBLE\n",
      "description: \n",
      "Bearbeiter_Software: Ralf Schünemann\n",
      "displaytype: Numeric\n",
      "Filter_Flaeche_in_cm2: 79.0\n",
      "Filter_Hersteller: Spörl\n",
      "Filter_Material: Drahtgewebe\n",
      "Filter_Nummer: 1\n",
      "Filter_Porengeroeße_in_um: 10.0\n",
      "Filter_Typ: keine\n",
      "Filter_Versuchsanzahl: 1\n",
      "Filter_Werkstoff: Edelstahl 1.4404\n",
      "FS_Dichte: 2.76\n",
      "FS_Feststoff: Dolomit\n",
      "FS_Feststoff_cV: 32.93699153519318\n",
      "FS_Masse: 100.0\n",
      "Kanalname: Masse_Konzentrat\n",
      "KM_Dichte_bei_20C: 1.0\n",
      "KM_kontinuierliches_Medium: Wasser\n",
      "KM_Masse: 1100000.0\n",
      "KM_Viskositaet: 1.0\n",
      "Kommentar_nach_Messung: 18.7°C\n",
      "Kommentar_zur_Messung: 18.1°C\n",
      "monotony: not monotone\n",
      "NI_ChannelName: Masse_Konzentrat\n",
      "NI_UnitDescription: kg\n",
      "novaluekey: No\n",
      "Publikation: \n",
      "Scale_ai_type: AI-Spannung\n",
      "Scale_Benutzerdef_Skalenname: RSF_Masse_Konzentrat\n",
      "Scale_device_name: cDAQ9188-RSFMod1\n",
      "Scale_input_terminal_configuration: Differential\n",
      "Scale_maximum_value: 250,00 kg\n",
      "Scale_minimum_value: 0,00 kg\n",
      "Scale_Nullabgleich: False\n",
      "Scale_physical_channel: ai4\n",
      "Scale_Skalierte_Einheit: kg\n",
      "Scale_Steigung: 25\n",
      "Scale_units: From Custom Scale\n",
      "Scale_Unskalierte_Einheit: Volt\n",
      "Scale_Unskalierte_Einheit_max: 10\n",
      "Scale_Unskalierte_Einheit_min: 0\n",
      "Scale_y_Achsenabschnitt: 0\n",
      "Scale_y_Achsenabschnitt_konst: 0\n",
      "Sensor_Anschluss_an_Datenerfassung: NI9205 differenziell AI 4 - AI 12\n",
      "Sensor_Einheit: kg\n",
      "Sensor_Hersteller: Hottinger Baldwin Messtechnik GmbH\n",
      "Sensor_Linearitaet: 0.0166 %FS\n",
      "Sensor_Messbereichsanfang: 0 kg\n",
      "Sensor_Messbereichsende: 250 kg\n",
      "Sensor_Messverstaerker_Ausgang: 0…10 V\n",
      "Sensor_Messverstaerkerhersteller: Hottinger Baldwin Messtechnik GmbH\n",
      "Sensor_Messverstaerkertyp: MVD2555\n",
      "Sensor_Mindestteilungswert: 100 g\n",
      "Sensor_Modellnummer: 1-PW10AC3/250kg-1\n",
      "Sensor_Nennkennwert_Cn: 2.0 + 0.2 mV/V\n",
      "Sensor_Nennmessbereich: 0…250 kg\n",
      "Sensor_Nullwerttoleranz: 0.1 mV/V\n",
      "Sensor_Relative_Umkehrspanne: 0.0166 %FS\n",
      "Sensor_Seriennummer: 02338228\n",
      "Sensor_Speisespannung: 1…12 V\n",
      "Sensor_Teilungswerte_max: 3000\n",
      "Sensor_Temperaturkoeffizient_TK_Kennwert: 0.0175 %FS\n",
      "Sensor_Temperaturkoeffizient_TK_Nullpunkt: 0.0140 %FS\n",
      "Sensor_Temperaturstabilitaet: -10…40°C\n",
      "Sensor_Typ: PW10AC3 Plattform-Wägezelle\n",
      "Sensor_Widerstand: 300…500\n",
      "VAR_ende_nach: Filtrieren\n",
      "VAR_gi_magnete_true_in_mm: 97.5\n",
      "VAR_gi_spuelstossweg_in_mm: 9.0\n",
      "VAR_laufzeit: 1\n",
      "VAR_n_zyklen: 0\n",
      "VAR_p_eigenenergie_in_bar: 0.0\n",
      "VAR_p_max_in_bar: 0.4\n",
      "VAR_p_rueckstoss_in_bar: 0.5\n",
      "VAR_pid_pconst_kc: 0.95\n",
      "VAR_pid_pconst_td_in_min: 0.0\n",
      "VAR_pid_pconst_ti_in_min: 0.08\n",
      "VAR_pid_vconst_kc: 0.95\n",
      "VAR_pid_vconst_td_in_min: 0.0\n",
      "VAR_pid_vconst_ti_in_min: 0.08\n",
      "VAR_spuelen_modus: Spülen\n",
      "VAR_t_entspannen_in_s: 2.0\n",
      "VAR_t_filtration_in_s: 45.0\n",
      "VAR_t_spuelen_in_s: 8.0\n",
      "VAR_t_vorspannen_vd6: 2.0\n",
      "VAR_zyklenzahl: 0\n",
      "Versuch_Apparatur: RSF\n",
      "Versuch_Berarbeiter: Narendra Muddana\n",
      "Versuch_Nummer: DT028\n",
      "Versuch_Ort: Technikum-MVTAT\n",
      "Versuch_Projekt__Auftrag: IGF 18528 BR\n",
      "Versuch_Reihe: perfect!\n",
      "Versuch_Startdatum: 26.09.2019\n",
      "Versuch_Stoppzeit: 2019-09-26 12:27:03.465232+00:00\n",
      "Versuch_Zyklen_Anzahl: 121\n",
      "wf_increment: 0.005\n",
      "wf_samples: 1473740\n",
      "wf_start_offset: 0.0\n",
      "wf_start_time: 2019-09-26 10:24:11.970320+00:00\n",
      "wf_time_pref: relative\n",
      "wf_xname: NoName\n",
      "wf_xunit_string: \n",
      "Zielstellung_der_Messung: Filteration_test_ spörl|_2mm(1mm)||CM2 FV18 030 80/BM15||0.85mm||(2mm(1mm)\n"
     ]
    }
   ],
   "source": [
    "# iterate over all items in the properties dictionary and print them\n",
    "for name, value in scale_channel.properties.items():\n",
    "    print(\"{0}: {1}\".format(name, value))"
   ]
  },
  {
   "cell_type": "code",
   "execution_count": 16,
   "metadata": {},
   "outputs": [
    {
     "data": {
      "text/plain": [
       "'kg'"
      ]
     },
     "execution_count": 16,
     "metadata": {},
     "output_type": "execute_result"
    }
   ],
   "source": [
    "# get a single property value\n",
    "property_value = scale_channel.property(\"unit_string\")\n",
    "\n",
    "property_value"
   ]
  },
  {
   "cell_type": "code",
   "execution_count": 6,
   "metadata": {},
   "outputs": [],
   "source": [
    "# output data per matplotlib\n",
    "import matplotlib\n",
    "import matplotlib.pyplot as plt"
   ]
  },
  {
   "cell_type": "code",
   "execution_count": 7,
   "metadata": {},
   "outputs": [
    {
     "data": {
      "image/png": "[encoded data removed]",
      "text/plain": [
       "<Figure size 432x288 with 1 Axes>"
      ]
     },
     "metadata": {
      "needs_background": "light"
     },
     "output_type": "display_data"
    }
   ],
   "source": [
    "# plot the created Numpy arrays\n",
    "fig, ax = plt.subplots()\n",
    "ax.plot(time_data, scale_data)\n",
    "\n",
    "ax.set(xlabel='time (s)', ylabel='weight (kg)',\n",
    "       title='Scale data')\n",
    "ax.grid()\n",
    "\n",
    "plt.show()"
   ]
  },
  {
   "cell_type": "code",
   "execution_count": 8,
   "metadata": {},
   "outputs": [],
   "source": [
    "# create a Panadas series directly from tdms object\n",
    "scale_channel_data = pd.Series(scale_channel.data, index = scale_channel.time_track())"
   ]
  },
  {
   "cell_type": "code",
   "execution_count": 9,
   "metadata": {},
   "outputs": [
    {
     "data": {
      "text/plain": [
       "0.000    45.831644\n",
       "0.005    45.831644\n",
       "0.010    45.823435\n",
       "0.015    45.823435\n",
       "0.020    45.831644\n",
       "dtype: float64"
      ]
     },
     "execution_count": 9,
     "metadata": {},
     "output_type": "execute_result"
    }
   ],
   "source": [
    "scale_channel_data.head()"
   ]
  },
  {
   "cell_type": "code",
   "execution_count": 10,
   "metadata": {},
   "outputs": [],
   "source": [
    "# will allow to embed images in the notebook\n",
    "%matplotlib inline"
   ]
  },
  {
   "cell_type": "code",
   "execution_count": 11,
   "metadata": {},
   "outputs": [
    {
     "data": {
      "text/plain": [
       "<matplotlib.axes._subplots.AxesSubplot at 0x11b174bcb08>"
      ]
     },
     "execution_count": 11,
     "metadata": {},
     "output_type": "execute_result"
    },
    {
     "data": {
      "image/png": "[encoded data removed]",
      "text/plain": [
       "<Figure size 1080x288 with 1 Axes>"
      ]
     },
     "metadata": {
      "needs_background": "light"
     },
     "output_type": "display_data"
    }
   ],
   "source": [
    "# plot Pandas series\n",
    "plt.rcParams['figure.figsize'] = [15, 4]\n",
    "scale_channel_data.plot()"
   ]
  }
 ],
 "metadata": {
  "kernelspec": {
   "display_name": "Python 3",
   "language": "python",
   "name": "python3"
  },
  "language_info": {
   "codemirror_mode": {
    "name": "ipython",
    "version": 3
   },
   "file_extension": ".py",
   "mimetype": "text/x-python",
   "name": "python",
   "nbconvert_exporter": "python",
   "pygments_lexer": "ipython3",
   "version": "3.7.4"
  }
 },
 "nbformat": 4,
 "nbformat_minor": 2
}
